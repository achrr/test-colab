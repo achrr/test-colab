{
  "nbformat": 4,
  "nbformat_minor": 0,
  "metadata": {
    "colab": {
      "name": "Un.ipynb",
      "provenance": [],
      "authorship_tag": "ABX9TyM8qNc0Ul4aHBTudZxuryRZ",
      "include_colab_link": true
    },
    "kernelspec": {
      "name": "python3",
      "display_name": "Python 3"
    },
    "language_info": {
      "name": "python"
    }
  },
  "cells": [
    {
      "cell_type": "markdown",
      "metadata": {
        "id": "view-in-github",
        "colab_type": "text"
      },
      "source": [
        "<a href=\"https://colab.research.google.com/github/achrr/test-colab/blob/main/Un.ipynb\" target=\"_parent\"><img src=\"https://colab.research.google.com/assets/colab-badge.svg\" alt=\"Open In Colab\"/></a>"
      ]
    },
    {
      "cell_type": "code",
      "execution_count": 4,
      "metadata": {
        "colab": {
          "base_uri": "https://localhost:8080/"
        },
        "id": "GbSeFRFhAJod",
        "outputId": "3d7f06c8-0891-494b-cb47-c8f7680f5d09"
      },
      "outputs": [
        {
          "output_type": "stream",
          "name": "stdout",
          "text": [
            "entre:bacir\n",
            "hello mr bacir\n"
          ]
        }
      ],
      "source": [
        "x=input(\"entre:\")\n",
        "print(\"hello mr\",x)"
      ]
    }
  ]
}